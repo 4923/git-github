{
  "nbformat": 4,
  "nbformat_minor": 0,
  "metadata": {
    "colab": {
      "name": "HUFS Missing Semester.ipynb",
      "provenance": [],
      "mount_file_id": "1GPN6IDJsJD0LsLf3XsYzQqFu9ZIONFCI",
      "authorship_tag": "ABX9TyNiy6pvhBfre6cwoUD0wWOp",
      "include_colab_link": true
    },
    "kernelspec": {
      "name": "python3",
      "display_name": "Python 3"
    }
  },
  "cells": [
    {
      "cell_type": "markdown",
      "metadata": {
        "id": "view-in-github",
        "colab_type": "text"
      },
      "source": [
        "<a href=\"https://colab.research.google.com/github/4923/git-github/blob/master/HUFS_Missing_Semester.ipynb\" target=\"_parent\"><img src=\"https://colab.research.google.com/assets/colab-badge.svg\" alt=\"Open In Colab\"/></a>"
      ]
    },
    {
      "cell_type": "code",
      "metadata": {
        "id": "HEB8CYvDLLI8"
      },
      "source": [
        "print(\"Hello World!\")"
      ],
      "execution_count": null,
      "outputs": []
    },
    {
      "cell_type": "code",
      "metadata": {
        "colab": {
          "base_uri": "https://localhost:8080/"
        },
        "id": "Hhfw_cjxLphV",
        "outputId": "4b6bed27-ce97-4625-fa41-cd5c46cbc5a1"
      },
      "source": [
        "! git clone https://github.com/4923/TIL.git"
      ],
      "execution_count": 1,
      "outputs": [
        {
          "output_type": "stream",
          "text": [
            "Cloning into 'TIL'...\n",
            "remote: Enumerating objects: 204, done.\u001b[K\n",
            "remote: Counting objects: 100% (204/204), done.\u001b[K\n",
            "remote: Compressing objects: 100% (144/144), done.\u001b[K\n",
            "remote: Total 204 (delta 95), reused 158 (delta 52), pack-reused 0\u001b[K\n",
            "Receiving objects: 100% (204/204), 36.42 KiB | 1.73 MiB/s, done.\n",
            "Resolving deltas: 100% (95/95), done.\n"
          ],
          "name": "stdout"
        }
      ]
    },
    {
      "cell_type": "markdown",
      "metadata": {
        "id": "HAY9_6YCLqEy"
      },
      "source": [
        ""
      ]
    }
  ]
}